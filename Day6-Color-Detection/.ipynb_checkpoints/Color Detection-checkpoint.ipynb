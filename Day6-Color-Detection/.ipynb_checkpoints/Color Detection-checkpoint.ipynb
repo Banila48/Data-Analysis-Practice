{
 "cells": [
  {
   "cell_type": "markdown",
   "metadata": {},
   "source": [
    "Inspiration from [here](https://www.pyimagesearch.com/2014/06/02/opencv-load-image/) and [here](https://data-flair.training/blogs/project-in-python-colour-detection/)\n",
    "\n",
    "Trying out a simple OpenCV project that involves identifying colors and matching that with the rgba values provided in the \"colors template.csv\"\n",
    "\n",
    "Libaries involved opencv, pandas\n",
    "\n",
    "**This has to be run from command prompt**\n",
    "\n",
    "- Navigate to working directory\n",
    "- Load python file and add image file name\n",
    "Eg \n",
    "*python color_detection.py --image gamcheon.jpg*\n",
    "\n"
   ]
  },
  {
   "cell_type": "code",
   "execution_count": 12,
   "metadata": {},
   "outputs": [
    {
     "name": "stderr",
     "output_type": "stream",
     "text": [
      "usage: ipykernel_launcher.py [-h] -i IMAGE\n",
      "ipykernel_launcher.py: error: the following arguments are required: -i/--image\n"
     ]
    },
    {
     "ename": "SystemExit",
     "evalue": "2",
     "output_type": "error",
     "traceback": [
      "An exception has occurred, use %tb to see the full traceback.\n",
      "\u001b[1;31mSystemExit\u001b[0m\u001b[1;31m:\u001b[0m 2\n"
     ]
    }
   ],
   "source": [
    "# Import Libraries\n",
    "import argparse\n",
    "import cv2\n",
    "import pandas as pd\n",
    "import numpy as np\n",
    "\n",
    "## Make ArgumentParser an object ap\n",
    "ap = argparse.ArgumentParser()\n",
    "\n",
    "## Add only argument. -i is the shorthand while --image is the longhand version.\n",
    "## Either one could be used\n",
    "## help is just for the command to give extra information\n",
    "\n",
    "ap.add_argument('-i', '--image', required = True, help = \"path to input image\")\n",
    "args = vars(ap.parse_args())\n",
    "img_path = args['input']\n",
    "img = cv2.imread(img_path)\n",
    "                \n",
    "# Read the \"color template.csv\"\n",
    "## Add column headers\n",
    "index = ['color', 'color_name', 'hex', \"R\", \"G\", \"B\"]\n",
    "colors = pd.read_csv(\"color template.csv\", names = index, header=None)\n",
    "colors\n",
    "\n",
    "# Calculate the rgb values of the pixel when double clicked\n",
    "## x and y are the coordinates of the mouse positions\n",
    "\n",
    "def draw_function(event, x,y,flags,param):\n",
    "    if event == cv2.EVENT_LBUTTONDBLCLK:\n",
    "        global b,g,r,xpos,ypos, clicked\n",
    "        clicked = True\n",
    "        xpos = x\n",
    "        ypos = y\n",
    "        b,g,r = img[y,x]\n",
    "        b = int(b)\n",
    "        g = int(g)\n",
    "        r = int(r)\n",
    "        \n",
    "# Calculate distance to get color names\n",
    "## d = |(Red-ithRedColor) + (Green-ithGreenColor) + (Blue-ithBlueColor)\n",
    "## Choose the color name with the minimum distance\n",
    "## using panads loc to find the respective row entry based on R,G or B column\n",
    "\n",
    "def getColorName(R,G,B):\n",
    "    minimum = 10000\n",
    "    for i in range(len(colors)):\n",
    "        d = abs( (R-int(colors.loc[i, \"R\"])) + (G-int(colors.loc[i, \"G\"])) + (B-int(colors.loc[i, \"B\"])))\n",
    "        if (d <= minimum):\n",
    "            minimum = d\n",
    "            cname = colors.loc[i, \"color_name\"]\n",
    "    return cname\n",
    "\n",
    "# Create a new window which will show the image output\n",
    "## Execute draw_function when clicking on the image\n",
    "cv2.nameWindow('image')\n",
    "## cv.setMouseCallback(windowname, function, param)\n",
    "cv2.setMouseCallback('image', draw_function)\n",
    "\n",
    "\n",
    "# Display image on output window\n",
    "## Show the image using cv2.imshow()\n",
    "## When double clicked on a pixel, a rectangular box (cv2.rectangle) is draw to identify the xpos and ypos \n",
    "## which will be used to find the r,g,b values\n",
    "## Return the color_name and r,g,b values using cv2.putText()\n",
    "\n",
    "while(1):\n",
    "    cv2.imshow(\"image\", img)\n",
    "    if (clicked):\n",
    "        ## cv2.rectangle(image, startpoint, endpoint, color, thickness) - 1\n",
    "        ## thickness fills rectangle entirely\n",
    "        cv2.rectangle (img, (20,20), (750,60), (b,g,r), -1)\n",
    "        \n",
    "        ## Create text string to display color_name and rgb values\n",
    "        text = getColorName(r,g,b) + 'R=' + str(r) + 'G=' +str(g) + 'B=' + str(b)\n",
    "        \n",
    "        ## cv2.putText(img, text, start, front (0-7), fontscale, color, thickness, lineType, (optional bottomLeft bool))\n",
    "        cv2.putText (img, text, (50,50), 2, 0.8, (255,255,255), 2, cv2.LINE_AA)\n",
    "        \n",
    "        ## For very light colors, we will display text in black color\n",
    "        if (r+g+b >= 600):\n",
    "            cv2.putText (img, text, (50,50), 2, 0.8, (0,0,0), 2, cv2.LINE_AA)\n",
    "            \n",
    "            clicked = False\n",
    "            \n",
    "        # Break the loop when pres \"Esc\"\n",
    "        if cv2.waitKey(20) & OxFF == 27:\n",
    "            break\n",
    "            \n",
    "cv2.destroyAllWindows()\n"
   ]
  },
  {
   "cell_type": "markdown",
   "metadata": {},
   "source": [
    "WOW\n",
    "\n",
    "This project is confusing without keep referring back to numerous tutorials and the [opencv documentation](https://docs.opencv.org/2.4/modules/core/doc/drawing_functions.html)\n",
    "\n",
    "Probably need to recap and do more of such projects to familiarise"
   ]
  },
  {
   "cell_type": "code",
   "execution_count": null,
   "metadata": {},
   "outputs": [],
   "source": []
  },
  {
   "cell_type": "code",
   "execution_count": null,
   "metadata": {},
   "outputs": [],
   "source": []
  },
  {
   "cell_type": "code",
   "execution_count": null,
   "metadata": {},
   "outputs": [],
   "source": []
  },
  {
   "cell_type": "code",
   "execution_count": null,
   "metadata": {},
   "outputs": [],
   "source": []
  },
  {
   "cell_type": "code",
   "execution_count": null,
   "metadata": {},
   "outputs": [],
   "source": []
  }
 ],
 "metadata": {
  "kernelspec": {
   "display_name": "Python 3",
   "language": "python",
   "name": "python3"
  },
  "language_info": {
   "codemirror_mode": {
    "name": "ipython",
    "version": 3
   },
   "file_extension": ".py",
   "mimetype": "text/x-python",
   "name": "python",
   "nbconvert_exporter": "python",
   "pygments_lexer": "ipython3",
   "version": "3.8.2"
  }
 },
 "nbformat": 4,
 "nbformat_minor": 4
}
